{
 "cells": [
  {
   "cell_type": "markdown",
   "metadata": {},
   "source": [
    "# **Introduction to Python**\n"
   ]
  },
  {
   "cell_type": "markdown",
   "metadata": {
    "collapsed": true
   },
   "source": [
    "When I need to build a web app, I reach for Python. When I need to automate some small task on my system, I reach for Python. When I want to find the most common colors in an image, I reach for Python. When I…OK, I think you get the picture. Basically, when I need to code something and the language doesn’t matter, I use Python. So what is Python?\n",
    "\n",
    "Python is a general purpose programming language created in the late 1980s, and named after Monty Python, that’s used by thousands of people to do things from testing microchips at Intel, to powering Instagram, to building video games with the PyGame library. It’s small, very closely resembles the English language, and has hundreds of existing third-party libraries."
   ]
  },
  {
   "cell_type": "markdown",
   "metadata": {},
   "source": [
    "So what are the major reasons why I, personally, choose Python and recommend it to as many people as possible? It comes down to three reasons.\n",
    "\n",
    "1. Readability\n",
    "2. Libraries\n",
    "3. Community"
   ]
  },
  {
   "cell_type": "markdown",
   "metadata": {},
   "source": [
    "### So lets get our hands dirty and write some Code!"
   ]
  },
  {
   "cell_type": "code",
   "execution_count": 9,
   "metadata": {
    "collapsed": false
   },
   "outputs": [
    {
     "name": "stdout",
     "output_type": "stream",
     "text": [
      "Not Hello world this time!\n"
     ]
    }
   ],
   "source": [
    "print \"Not Hello world this time!\"\n",
    "# comment"
   ]
  },
  {
   "cell_type": "markdown",
   "metadata": {},
   "source": [
    " The arithmetic operators +, -, *, /, %, **, //\n",
    " \n",
    " ** Exponential calculation\n",
    " \n",
    " // Floor Division"
   ]
  },
  {
   "cell_type": "code",
   "execution_count": 10,
   "metadata": {
    "collapsed": false
   },
   "outputs": [
    {
     "name": "stdout",
     "output_type": "stream",
     "text": [
      "5 + 2 = 7\n",
      "5 - 2 = 3\n",
      "5 * 2 = 10\n",
      "5 / 2 = 2\n",
      "5 % 2 = 1\n",
      "5 ** 2 = 25\n",
      "5 // 2 = 2\n",
      "1 + 2 - 3 * 2 = -3\n",
      "(1 + 2 - 3) * 2 = 0\n"
     ]
    }
   ],
   "source": [
    "print \"5 + 2 =\", 5+2\n",
    "print \"5 - 2 =\", 5-2\n",
    "print \"5 * 2 =\", 5*2\n",
    "print \"5 / 2 =\", 5/2\n",
    "print\"5 % 2 =\", 5%2\n",
    "print\"5 ** 2 =\", 5**2\n",
    "print\"5 // 2 =\", 5//2\n",
    " \n",
    "# Order of Operation states * and / is performed before + and -\n",
    " \n",
    "print\"1 + 2 - 3 * 2 =\", 1 + 2 - 3 * 2\n",
    "print\"(1 + 2 - 3) * 2 =\", (1 + 2 - 3) * 2"
   ]
  },
  {
   "cell_type": "code",
   "execution_count": 11,
   "metadata": {
    "collapsed": false
   },
   "outputs": [
    {
     "name": "stdout",
     "output_type": "stream",
     "text": [
      "5\n",
      "string\n"
     ]
    }
   ],
   "source": [
    "a = 5\n",
    "print a\n",
    "a = \"string\"\n",
    "print a"
   ]
  },
  {
   "cell_type": "code",
   "execution_count": 12,
   "metadata": {
    "collapsed": false
   },
   "outputs": [
    {
     "name": "stdout",
     "output_type": "stream",
     "text": [
      "\"Always remember your unique, just \n",
      "like everyone\n",
      "else \n"
     ]
    }
   ],
   "source": [
    "# A string is a string of characters surrounded by \" or '\n",
    "# If you must use a \" or ' between the same quote escape it with \\\n",
    "quote = \"\\\"Always remember your unique,\"\n",
    " \n",
    "# A multi-line quote\n",
    "multi_line_quote = ''' just \n",
    "like everyone\n",
    "else '''\n",
    "print quote + multi_line_quote"
   ]
  },
  {
   "cell_type": "code",
   "execution_count": 13,
   "metadata": {
    "collapsed": false
   },
   "outputs": [
    {
     "name": "stdout",
     "output_type": "stream",
     "text": [
      "I like the quote \"Always remember your unique,  just \n",
      "like everyone\n",
      "else \n",
      "I don't like  newlines\n",
      "hello\n",
      "hello\n",
      "hello\n",
      "hello\n",
      "hello\n",
      "\n"
     ]
    }
   ],
   "source": [
    "# To embed a string in output use %s\n",
    "print\"%s %s %s\" % ('I like the quote', quote, multi_line_quote)\n",
    " \n",
    "# To keep from printing newlines use end=\"\"\n",
    "print\"I don't like \",\n",
    "print\"newlines\"\n",
    " \n",
    "# You can print a string multiple times with *\n",
    "print'hello\\n' * 5"
   ]
  },
  {
   "cell_type": "code",
   "execution_count": 14,
   "metadata": {
    "collapsed": false
   },
   "outputs": [
    {
     "name": "stdout",
     "output_type": "stream",
     "text": [
      "[1, 'string', 3, 4.05]\n",
      "1\n"
     ]
    }
   ],
   "source": [
    "# LISTS -------------\n",
    "# A list allows you to create a list of values and manipulate them\n",
    "# Each value has an index with the first one starting at 0\n",
    " \n",
    "my_list = [1,'string',3, 4.05]\n",
    "print my_list\n",
    "print my_list[0]\n",
    " "
   ]
  },
  {
   "cell_type": "markdown",
   "metadata": {},
   "source": [
    "Since Pythons philosophy is to keep it simple, you can have any type of variable in list"
   ]
  },
  {
   "cell_type": "code",
   "execution_count": 15,
   "metadata": {
    "collapsed": false
   },
   "outputs": [
    {
     "name": "stdout",
     "output_type": "stream",
     "text": [
      "[[1, 'string', 3, 4.05], 1]\n"
     ]
    }
   ],
   "source": [
    "m_list = [my_list, 1]\n",
    "print m_list"
   ]
  },
  {
   "cell_type": "markdown",
   "metadata": {},
   "source": [
    "## Slicing \n",
    "#### You can get a subset of the list with [min:up to but not including max]"
   ]
  },
  {
   "cell_type": "code",
   "execution_count": 16,
   "metadata": {
    "collapsed": false
   },
   "outputs": [
    {
     "name": "stdout",
     "output_type": "stream",
     "text": [
      "['string', 3]\n",
      "[1, 'string', 3, 4.05]\n"
     ]
    }
   ],
   "source": [
    " print my_list[1:3]\n",
    " print my_list"
   ]
  },
  {
   "cell_type": "code",
   "execution_count": 17,
   "metadata": {
    "collapsed": false
   },
   "outputs": [
    {
     "name": "stdout",
     "output_type": "stream",
     "text": [
      "[1, 3, 5]\n",
      "[1, 3, 5]\n",
      "[7, 5, 3, 1]\n",
      "[7, 6, 5, 4, 3, 2, 1]\n"
     ]
    }
   ],
   "source": [
    "my_list = [1,2,3,4,5,6,7]\n",
    "a_list = my_list[0:6:2]\n",
    "print a_list\n",
    "a_list = my_list[0:6:2]\n",
    "print a_list\n",
    "a_list = my_list[-1::-2]\n",
    "print a_list\n",
    "a_list = my_list[::-1]\n",
    "print a_list"
   ]
  },
  {
   "cell_type": "markdown",
   "metadata": {},
   "source": [
    "#### Other List functions implemented below"
   ]
  },
  {
   "cell_type": "code",
   "execution_count": 18,
   "metadata": {
    "collapsed": false
   },
   "outputs": [
    {
     "name": "stdout",
     "output_type": "stream",
     "text": [
      "['Green Juice', 'Tomatoes', 'Potatoes', 'Bananas']\n",
      "['Tomatoes', 'Potatoes']\n",
      "[['Wash Car', 'Pick up Kids', 'Cash Check'], ['Green Juice', 'Tomatoes', 'Potatoes', 'Bananas']]\n",
      "Tomatoes\n",
      "[['Wash Car', 'Pick up Kids', 'Cash Check'], ['Green Juice', 'Tomatoes', 'Potatoes', 'Bananas', 'onions']]\n",
      "[['Wash Car', 'Pick up Kids', 'Cash Check'], ['onions', 'Tomatoes', 'Potatoes', 'Green Juice']]\n",
      "['Wash Car', 'Pick up Kids', 'Cash Check', 'onions', 'Tomatoes', 'Potatoes', 'Green Juice']\n",
      "7\n",
      "onions\n",
      "Cash Check\n"
     ]
    }
   ],
   "source": [
    "grocery_list = ['Juice', 'Tomatoes', 'Potatoes', 'Bananas']\n",
    " \n",
    "# You can change the value stored in a list box\n",
    "grocery_list[0] = \"Green Juice\"\n",
    "print grocery_list\n",
    " \n",
    "# You can get a subset of the list with [min:up to but not including max]\n",
    " \n",
    "print grocery_list[1:3]\n",
    " \n",
    "# You can put any data type in a a list including a list\n",
    "other_events = ['Wash Car', 'Pick up Kids', 'Cash Check']\n",
    "to_do_list = [other_events, grocery_list]\n",
    " \n",
    "print to_do_list\n",
    " \n",
    "# Get the second item in the second list (Boxes inside of boxes)\n",
    "print to_do_list[1][1]\n",
    " \n",
    "# You add values using append\n",
    "grocery_list.append('onions')\n",
    "print to_do_list\n",
    " \n",
    "# Insert item at given index\n",
    "grocery_list.insert(1, \"Pickle\")\n",
    " \n",
    "# Remove item from list\n",
    "grocery_list.remove(\"Pickle\")\n",
    " \n",
    "# Sorts items in list\n",
    "grocery_list.sort()\n",
    " \n",
    "# Reverse sort items in list\n",
    "grocery_list.reverse()\n",
    " \n",
    "# del deletes an item at specified index\n",
    "del grocery_list[4]\n",
    "print to_do_list\n",
    " \n",
    "# We can combine lists with a +\n",
    "to_do_list = other_events + grocery_list\n",
    "print(to_do_list)\n",
    " \n",
    "# Get length of list\n",
    "print(len(to_do_list))\n",
    " \n",
    "# Get the max item in list\n",
    "print(max(to_do_list))\n",
    " \n",
    "# Get the minimum item in list\n",
    "print(min(to_do_list))"
   ]
  },
  {
   "cell_type": "code",
   "execution_count": 19,
   "metadata": {
    "collapsed": false
   },
   "outputs": [
    {
     "data": {
      "text/plain": [
       "['__add__',\n",
       " '__class__',\n",
       " '__contains__',\n",
       " '__delattr__',\n",
       " '__delitem__',\n",
       " '__delslice__',\n",
       " '__doc__',\n",
       " '__eq__',\n",
       " '__format__',\n",
       " '__ge__',\n",
       " '__getattribute__',\n",
       " '__getitem__',\n",
       " '__getslice__',\n",
       " '__gt__',\n",
       " '__hash__',\n",
       " '__iadd__',\n",
       " '__imul__',\n",
       " '__init__',\n",
       " '__iter__',\n",
       " '__le__',\n",
       " '__len__',\n",
       " '__lt__',\n",
       " '__mul__',\n",
       " '__ne__',\n",
       " '__new__',\n",
       " '__reduce__',\n",
       " '__reduce_ex__',\n",
       " '__repr__',\n",
       " '__reversed__',\n",
       " '__rmul__',\n",
       " '__setattr__',\n",
       " '__setitem__',\n",
       " '__setslice__',\n",
       " '__sizeof__',\n",
       " '__str__',\n",
       " '__subclasshook__',\n",
       " 'append',\n",
       " 'count',\n",
       " 'extend',\n",
       " 'index',\n",
       " 'insert',\n",
       " 'pop',\n",
       " 'remove',\n",
       " 'reverse',\n",
       " 'sort']"
      ]
     },
     "execution_count": 19,
     "metadata": {},
     "output_type": "execute_result"
    }
   ],
   "source": [
    "dir(my_list)"
   ]
  },
  {
   "cell_type": "code",
   "execution_count": 20,
   "metadata": {
    "collapsed": false
   },
   "outputs": [
    {
     "name": "stdout",
     "output_type": "stream",
     "text": [
      "Help on built-in function append:\n",
      "\n",
      "append(...)\n",
      "    L.append(object) -- append object to end\n",
      "\n"
     ]
    }
   ],
   "source": [
    "help(my_list.append)"
   ]
  },
  {
   "cell_type": "code",
   "execution_count": 21,
   "metadata": {
    "collapsed": false
   },
   "outputs": [
    {
     "name": "stdout",
     "output_type": "stream",
     "text": [
      "[3, 1, 4, 1, 5, 9]\n",
      "('onions', 'Tomatoes', 'Potatoes', 'Green Juice')\n"
     ]
    }
   ],
   "source": [
    "# TUPLES -------------\n",
    "# Values in a tuple can't change like lists\n",
    " \n",
    "pi_tuple = (3, 1, 4, 1, 5, 9)\n",
    "# Convert tuple into a list\n",
    "\n",
    "new_tuple = list(pi_tuple)\n",
    "print new_tuple\n",
    "# Convert a list into a tuple\n",
    "new_list = tuple(grocery_list)\n",
    "print new_list\n",
    "# tuples also have len(tuple), min(tuple) and max(tuple)\n",
    " \n",
    " "
   ]
  },
  {
   "cell_type": "markdown",
   "metadata": {},
   "source": [
    "## Dictionary"
   ]
  },
  {
   "cell_type": "code",
   "execution_count": 25,
   "metadata": {
    "collapsed": false
   },
   "outputs": [
    {
     "name": "stdout",
     "output_type": "stream",
     "text": [
      "Leonarart\n",
      "{'Mirror Master': 'Sam Scudder', 'Pied Piper': 'Thomas Peterson', 'Captain Cold': 'Leonarart', 'Weather Wizard': 'Mark Mardon'}\n",
      "4\n",
      "Hartley Rathaway\n",
      "['Mirror Master', 'Pied Piper', 'Captain Cold', 'Weather Wizard']\n",
      "['Sam Scudder', 'Hartley Rathaway', 'Leonarart', 'Mark Mardon']\n"
     ]
    }
   ],
   "source": [
    "# DICTIONARY or MAP -------------\n",
    "# Made up of values with a unique key for each value\n",
    "# Similar to lists, but you can't join dicts with a +\n",
    " \n",
    "super_villains = {'Fiddler' : 'Isaac Bowin',\n",
    "                  'Fiddler' : 'Isaac B',\n",
    "                  'Captain Cold' : 'Leonard Snart',\n",
    "                  'Captain Cold' : 'Leonarart',\n",
    "                  'Weather Wizard' : 'Mark Mardon',\n",
    "                  'Mirror Master' : 'Sam Scudder',\n",
    "                  'Pied Piper' : 'Thomas Peterson'}\n",
    " \n",
    "print(super_villains['Captain Cold'])\n",
    " \n",
    "# Delete an entry\n",
    "del super_villains['Fiddler']\n",
    "print(super_villains)\n",
    " \n",
    "# Replace a value\n",
    "super_villains['Pied Piper'] = 'Hartley Rathaway'\n",
    " \n",
    "# Print the number of items in the dictionary\n",
    "print(len(super_villains))\n",
    " \n",
    "# Get the value for the passed key\n",
    "print(super_villains.get(\"Pied Piper\"))\n",
    " \n",
    "# Get a list of dictionary keys\n",
    "print(super_villains.keys())\n",
    " \n",
    "# Get a list of dictionary values\n",
    "print(super_villains.values())"
   ]
  },
  {
   "cell_type": "code",
   "execution_count": 28,
   "metadata": {
    "collapsed": false
   },
   "outputs": [
    {
     "name": "stdout",
     "output_type": "stream",
     "text": [
      "I'll\n",
      "Floor\n",
      "I'll catch you if you fall - The \n",
      "I'll be there\n",
      "X is my favorite letter and my number 1 number is 0.14000\n",
      "I'll catch you if you fall - the floor\n",
      "33\n",
      "False\n",
      "False\n",
      "38\n",
      "I'll catch you if you fall - The Ground\n",
      "I'll catch you if you fall - The Floor\n",
      "[\"I'll\", 'catch', 'you', 'if', 'you', 'fall', '-', 'The', 'Floor']\n"
     ]
    }
   ],
   "source": [
    "# STRINGS -------------\n",
    "# A string is a series of characters surrounded by ' or \"\n",
    "long_string = \"I'll catch you if you fall - The Floor\"\n",
    " \n",
    "# Retrieve the first 4 characters\n",
    "print(long_string[0:4])\n",
    " \n",
    "# Get the last 5 characters\n",
    "print(long_string[-5:])\n",
    " \n",
    "# Everything up to the last 5 characters\n",
    "print(long_string[:-5])\n",
    " \n",
    "# Concatenate part of a string to another\n",
    "print(long_string[:4] + \" be there\")\n",
    " \n",
    "# String formatting\n",
    "print(\"%c is my %s letter and my number %d number is %.5f\" % ('X', 'favorite', 1, .14))\n",
    " \n",
    "# Capitalizes the first letter\n",
    "print(long_string.capitalize())\n",
    " \n",
    "# Returns the index of the start of the string\n",
    "# case sensitive\n",
    "print(long_string.find(\"Floor\"))\n",
    " \n",
    "# Returns true if all characters are letters ' isn't a letter\n",
    "print(long_string.isalpha())\n",
    " \n",
    "# Returns true if all characters are numbers\n",
    "print(long_string.isalnum())\n",
    " \n",
    "# Returns the string length\n",
    "print(len(long_string))\n",
    " \n",
    "# Replace the first word with the second (Add a number to replace more)\n",
    "print(long_string.replace(\"Floor\", \"Ground\"))\n",
    " \n",
    "# Remove white space from front and end\n",
    "print(long_string.strip())\n",
    " \n",
    "# Split a string into a list based on the delimiter you provide\n",
    "quote_list = long_string.split(\" \")\n",
    "print(quote_list)\n",
    " "
   ]
  },
  {
   "cell_type": "markdown",
   "metadata": {},
   "source": [
    "#### CONDITIONALS \n",
    "\n",
    "The if, else and elif statements are used to perform different actions based off of conditions\n",
    "\n",
    "Comparison Operators : ** ==, !=, >, <, >=, <= **\n",
    "\n",
    "    \n",
    "The if statement will execute code if a condition is met\n",
    "\n",
    "White space is used to group blocks of code in Python\n",
    "\n",
    "Use the same number of proceeding spaces for blocks of code\n",
    "\n",
    "\n"
   ]
  },
  {
   "cell_type": "code",
   "execution_count": 31,
   "metadata": {
    "collapsed": false
   },
   "outputs": [
    {
     "name": "stdout",
     "output_type": "stream",
     "text": [
      "You get a birthday party\n",
      "yo\n"
     ]
    }
   ],
   "source": [
    "# You can combine conditions with logical operators\n",
    "# Logical Operators : and, or, not\n",
    "age = 15\n",
    "if age >= 1 and age <= 18:\n",
    "    print(\"You get a birthday party\")\n",
    "    print \"yo\"\n",
    "elif age == 21 or age >= 65:\n",
    "    print(\"You get a special birthday party\")\n",
    "elif not age == 30:\n",
    "    print(\"You don't get a birthday party\")\n",
    "else:\n",
    "    print(\"You get a birthday party yeah\")\n",
    " "
   ]
  },
  {
   "cell_type": "markdown",
   "metadata": {},
   "source": [
    "### Loop Contructs"
   ]
  },
  {
   "cell_type": "code",
   "execution_count": null,
   "metadata": {
    "collapsed": false
   },
   "outputs": [],
   "source": [
    "for i in range(0,10):\n",
    "    print i"
   ]
  },
  {
   "cell_type": "code",
   "execution_count": 32,
   "metadata": {
    "collapsed": false
   },
   "outputs": [
    {
     "name": "stdout",
     "output_type": "stream",
     "text": [
      "[7, 6, 5, 4, 3, 2, 1]\n",
      "7 6 5 4 3 2 1\n"
     ]
    }
   ],
   "source": [
    "print a_list\n",
    "for x in a_list:\n",
    "    print x,"
   ]
  },
  {
   "cell_type": "code",
   "execution_count": null,
   "metadata": {
    "collapsed": false
   },
   "outputs": [],
   "source": [
    "# You can double up for loops to cycle through lists\n",
    "num_list =[[1,2,3],[10,20,30],[100,200,300]];\n",
    " \n",
    "for x in range(0,3):\n",
    "    for y in range(0,3):\n",
    "        print num_list[x][y],"
   ]
  },
  {
   "cell_type": "code",
   "execution_count": null,
   "metadata": {
    "collapsed": false
   },
   "outputs": [],
   "source": [
    "v_str = 'python loves you'\n",
    " \n",
    "# Take steps of 2 in a string sequence\n",
    "for x in v_str[0::2]:    \n",
    "    print x,\n",
    " \n",
    "print \"---\"\n",
    " \n",
    "# Now reverse the order\n",
    "for x in v_str[-1::-1]:   \n",
    "    print x,"
   ]
  },
  {
   "cell_type": "code",
   "execution_count": null,
   "metadata": {
    "collapsed": false
   },
   "outputs": [],
   "source": [
    "# WHILE LOOPS -------------\n",
    "# While loops are used when you don't know ahead of time how many\n",
    "# times you'll have to loop\n",
    "# An iterator for a while loop is defined before the loop\n",
    "i = 0\n",
    "while (i <= 20):\n",
    "    if(i%2 == 0):\n",
    "        print(i)\n",
    "    elif(i == 9):\n",
    "        # Forces the loop to end all together\n",
    "        break\n",
    "    else:\n",
    "        # Shorthand for i = i + 1\n",
    "        i += 1\n",
    "        # Skips to the next iteration of the loop\n",
    "        continue\n",
    "    i += 1\n",
    "print \"outside while loop\", i"
   ]
  },
  {
   "cell_type": "markdown",
   "metadata": {},
   "source": [
    "### Functions"
   ]
  },
  {
   "cell_type": "code",
   "execution_count": 33,
   "metadata": {
    "collapsed": false
   },
   "outputs": [
    {
     "data": {
      "text/plain": [
       "('number 1 number 2', 'number 1')"
      ]
     },
     "execution_count": 33,
     "metadata": {},
     "output_type": "execute_result"
    }
   ],
   "source": [
    "# FUNCTIONS -------------\n",
    "# Functions allow you to reuse and write readable code\n",
    "# Type def (define), function name and parameters it receives\n",
    "# return is used to return something to the caller of the function\n",
    "def addNumbers(fNum, sNum):\n",
    "    sumNum = fNum + sNum\n",
    "    return sumNum,fNum\n",
    "addNumbers(56,3)\n",
    "addNumbers(\"number 1\",\" number 2\")"
   ]
  },
  {
   "cell_type": "code",
   "execution_count": 41,
   "metadata": {
    "collapsed": false
   },
   "outputs": [
    {
     "name": "stdout",
     "output_type": "stream",
     "text": [
      "43634968\n",
      "5 43634968\n"
     ]
    }
   ],
   "source": [
    "# NOTE ON ALIASING\n",
    "def do_something(arg):\n",
    "    print id(arg)\n",
    "    arg += 2\n",
    "    return arg\n",
    "    #args.append(1)\n",
    "x = 5\n",
    "do_something(x)\n",
    "print x, id(x)"
   ]
  },
  {
   "cell_type": "code",
   "execution_count": 42,
   "metadata": {
    "collapsed": false
   },
   "outputs": [
    {
     "name": "stdout",
     "output_type": "stream",
     "text": [
      "[5]\n"
     ]
    }
   ],
   "source": [
    "def do_something(arg):\n",
    "    arg = arg * 2 # BREAKS alisasing\n",
    "    arg.append(1)\n",
    "x = [5]\n",
    "do_something(x)\n",
    "print x"
   ]
  },
  {
   "cell_type": "markdown",
   "metadata": {},
   "source": [
    "## PIP \n",
    "### Python Package index"
   ]
  },
  {
   "cell_type": "code",
   "execution_count": null,
   "metadata": {
    "collapsed": false
   },
   "outputs": [],
   "source": [
    "#LINUX OR MACOS USERS\n",
    "#sudo easy_install pip\n",
    "#sudo pip <command> <args>\n",
    "sudo pip install requests"
   ]
  },
  {
   "cell_type": "code",
   "execution_count": null,
   "metadata": {
    "collapsed": true
   },
   "outputs": [],
   "source": [
    "# Windows\n",
    "#python -m pip install -U pip setuptools\n",
    "python\n",
    "import pip\n",
    "#go to terminal\n",
    "python -m pip install requests\n",
    "python\n",
    "import requests\n",
    "#python -m pip install <package-name>"
   ]
  },
  {
   "cell_type": "code",
   "execution_count": null,
   "metadata": {
    "collapsed": true
   },
   "outputs": [],
   "source": [
    "# for those on Windows having problem visit \n",
    "#http://stackoverflow.com/questions/4750806/how-do-i-install-pip-on-windows?rq=1\n"
   ]
  },
  {
   "cell_type": "code",
   "execution_count": null,
   "metadata": {
    "collapsed": true
   },
   "outputs": [],
   "source": [
    "#pip\n",
    "#pip install\n",
    "#pip download\n",
    "#pip uninstall\n",
    "#pip freeze\n",
    "#pip list\n",
    "#pip show\n",
    "#pip search\n",
    "#pip wheel\n",
    "#pip hash"
   ]
  },
  {
   "cell_type": "code",
   "execution_count": null,
   "metadata": {
    "collapsed": false
   },
   "outputs": [],
   "source": [
    "#pip install requests            # latest version\n",
    "#pip install SomePackage==1.0.4     # specific version\n",
    "#pip install 'SomePackage>=1.0.4'     # minimum version\n",
    "#sudo pip install requests>=2.12.5\n",
    "#sudo pip install BeautifulSoup\n",
    "#-I, ignore installed\n",
    "#--upgrade\n",
    "#pip uninstall [options] <package> \n",
    "#pip seach modulename\n",
    "#pip list\n",
    "#pip show <modulename>"
   ]
  },
  {
   "cell_type": "code",
   "execution_count": null,
   "metadata": {
    "collapsed": true
   },
   "outputs": [],
   "source": []
  }
 ],
 "metadata": {
  "kernelspec": {
   "display_name": "Python 2",
   "language": "python",
   "name": "python2"
  },
  "language_info": {
   "codemirror_mode": {
    "name": "ipython",
    "version": 2
   },
   "file_extension": ".py",
   "mimetype": "text/x-python",
   "name": "python",
   "nbconvert_exporter": "python",
   "pygments_lexer": "ipython2",
   "version": "2.7.12"
  }
 },
 "nbformat": 4,
 "nbformat_minor": 2
}
