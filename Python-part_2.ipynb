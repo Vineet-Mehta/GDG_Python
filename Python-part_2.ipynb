{
 "cells": [
  {
   "cell_type": "markdown",
   "metadata": {},
   "source": [
    "### Virtual Environment"
   ]
  },
  {
   "cell_type": "markdown",
   "metadata": {},
   "source": [
    "How does virtualenv help?\n",
    "\n",
    "virtualenv solves this problem by creating a completely isolated virtual environment for each of your programs. An environment is simply a directory that contains a complete copy of everything needed to run a Python program, including a copy of the python binary itself, a copy of the entire Python standard library, a copy of the pip installer, and (crucially) a copy of the site-packages directory mentioned above. When you install a package from PyPI using the copy of pip that's created by the virtualenv tool, it will install the package into the site-packages directory inside the virtualenv directory. You can then use it in your program just as before."
   ]
  },
  {
   "cell_type": "code",
   "execution_count": null,
   "metadata": {
    "collapsed": true
   },
   "outputs": [],
   "source": [
    "$sudo pip install virtualenv\n",
    "$cd ~/code/myproject/\n",
    "$virtualenv env\n",
    "$ls env\n",
    "$which python\n",
    "/usr/bin/python\n",
    "$ source env/bin/activate\n",
    "$ deactivate"
   ]
  },
  {
   "cell_type": "markdown",
   "metadata": {},
   "source": [
    "pip is a tool for installing packages from the Python Package Index.\n",
    "\n",
    "virtualenv is a tool for creating isolated Python environments containing their own copy of python, pip, and their own place to keep libraries installed from PyPI.\n",
    "\n",
    "It's designed to allow you to work on multiple projects with different dependencies at the same time on the same machine.\n",
    "After installing it, run virtualenv env to create a new environment inside a directory called env.\n",
    "\n",
    "You'll need one of these environments for each of your projects. Make sure you exclude these directories from your version control system.\n",
    "\n",
    "To use the versions of python and pip inside the environment, type env/bin/python and env/bin/pip respectively.\n",
    "\n",
    "You can \"activate\" an environment with source env/bin/activate and deactivate one with deactivate. This is entirely optional but might make life a little easier.\n"
   ]
  },
  {
   "cell_type": "markdown",
   "metadata": {},
   "source": [
    "Running virtualenv with the option --no-site-packages will not include the packages that are installed globally. This can be useful for keeping the package list clean in case it needs to be accessed later. [This is the default behavior for virtualenv 1.7 and later.]"
   ]
  },
  {
   "cell_type": "markdown",
   "metadata": {},
   "source": [
    "### Requests HTTP Library"
   ]
  },
  {
   "cell_type": "markdown",
   "metadata": {},
   "source": [
    "\n",
    "1\tGET\n",
    "The GET method is used to retrieve information from the given server using a given URI. Requests using GET should only retrieve data and should have no other effect on the data.\n",
    "\n",
    "2\tHEAD\n",
    "Same as GET, but transfers the status line and header section only.\n",
    "\n",
    "3\tPOST\n",
    "A POST request is used to send data to the server, for example, customer information, file upload, etc. using HTML forms.\n",
    "\n",
    "4\tPUT\n",
    "Replaces all current representations of the target resource with the uploaded content.\n",
    "\n",
    "5\tDELETE\n",
    "Removes all current representations of the target resource given by a URI.\n",
    "\n",
    "6\tCONNECT\n",
    "Establishes a tunnel to the server identified by a given URI.\n",
    "\n",
    "7\tOPTIONS\n",
    "Describes the communication options for the target resource.\n",
    "\n",
    "8\tTRACE\n",
    "Performs a message loop-back test along the path to the target resource."
   ]
  },
  {
   "cell_type": "code",
   "execution_count": null,
   "metadata": {
    "collapsed": false
   },
   "outputs": [],
   "source": [
    "import requests\n",
    "r = requests.get('https://google.com')\n",
    "#c = r.content\n",
    "print r.status_code\n",
    "#print c\n",
    "r = requests.post('http://httpbin.org/post', data = {'key':'value'})\n",
    "r.headers\n",
    "r = requests.put('http://httpbin.org/put', data = {'key':'value'})\n",
    "r = requests.delete('http://httpbin.org/delete')\n",
    "r = requests.head('http://httpbin.org/get')\n",
    "r = requests.options('http://httpbin.org/get')"
   ]
  },
  {
   "cell_type": "markdown",
   "metadata": {},
   "source": [
    "### Beautiful soup library"
   ]
  },
  {
   "cell_type": "code",
   "execution_count": 46,
   "metadata": {
    "collapsed": true
   },
   "outputs": [],
   "source": [
    "html_doc = \"\"\"\n",
    "<html><head><title>The Dormouse's story</title></head>\n",
    "<body>\n",
    "<p class=\"title\"><b>The Dormouse's story</b></p>\n",
    "\n",
    "<p class=\"story\">Once upon a time there were three little sisters; and their names were\n",
    "<a href=\"http://example.com/elsie\" class=\"sister\" id=\"link1\">Elsie</a>,\n",
    "<a href=\"http://example.com/lacie\" class=\"sister\" id=\"link2\">Lacie</a> and\n",
    "<a href=\"http://example.com/tillie\" class=\"sister\" id=\"link3\">Tillie</a>;\n",
    "and they lived at the bottom of a well.</p>\n",
    "\n",
    "<p class=\"story\">...</p>\n",
    "\"\"\""
   ]
  },
  {
   "cell_type": "code",
   "execution_count": null,
   "metadata": {
    "collapsed": true
   },
   "outputs": [],
   "source": [
    "#sudo pip install beautifulsoup4"
   ]
  },
  {
   "cell_type": "code",
   "execution_count": 47,
   "metadata": {
    "collapsed": false
   },
   "outputs": [
    {
     "name": "stdout",
     "output_type": "stream",
     "text": [
      "<html>\n",
      " <head>\n",
      "  <title>\n",
      "   The Dormouse's story\n",
      "  </title>\n",
      " </head>\n",
      " <body>\n",
      "  <p class=\"title\">\n",
      "   <b>\n",
      "    The Dormouse's story\n",
      "   </b>\n",
      "  </p>\n",
      "  <p class=\"story\">\n",
      "   Once upon a time there were three little sisters; and their names were\n",
      "   <a class=\"sister\" href=\"http://example.com/elsie\" id=\"link1\">\n",
      "    Elsie\n",
      "   </a>\n",
      "   ,\n",
      "   <a class=\"sister\" href=\"http://example.com/lacie\" id=\"link2\">\n",
      "    Lacie\n",
      "   </a>\n",
      "   and\n",
      "   <a class=\"sister\" href=\"http://example.com/tillie\" id=\"link3\">\n",
      "    Tillie\n",
      "   </a>\n",
      "   ;\n",
      "and they lived at the bottom of a well.\n",
      "  </p>\n",
      "  <p class=\"story\">\n",
      "   ...\n",
      "  </p>\n",
      " </body>\n",
      "</html>\n"
     ]
    }
   ],
   "source": [
    "from bs4 import BeautifulSoup\n",
    "soup = BeautifulSoup(html_doc, 'html.parser')\n",
    "\n",
    "print(soup.prettify())\n"
   ]
  },
  {
   "cell_type": "code",
   "execution_count": 48,
   "metadata": {
    "collapsed": false
   },
   "outputs": [
    {
     "data": {
      "text/plain": [
       "<a class=\"sister\" href=\"http://example.com/tillie\" id=\"link3\">Tillie</a>"
      ]
     },
     "execution_count": 48,
     "metadata": {},
     "output_type": "execute_result"
    }
   ],
   "source": [
    "soup.title\n",
    "# <title>The Dormouse's story</title>\n",
    "\n",
    "soup.title.name\n",
    "# u'title'\n",
    "\n",
    "soup.title.string\n",
    "# u'The Dormouse's story'\n",
    "\n",
    "soup.title.parent.name\n",
    "# u'head'\n",
    "\n",
    "soup.p\n",
    "# <p class=\"title\"><b>The Dormouse's story</b></p>\n",
    "\n",
    "soup.p['class']\n",
    "# u'title'\n",
    "\n",
    "soup.a\n",
    "# <a class=\"sister\" href=\"http://example.com/elsie\" id=\"link1\">Elsie</a>\n",
    "\n",
    "soup.find_all('a')\n",
    "# [<a class=\"sister\" href=\"http://example.com/elsie\" id=\"link1\">Elsie</a>,\n",
    "#  <a class=\"sister\" href=\"http://example.com/lacie\" id=\"link2\">Lacie</a>,\n",
    "#  <a class=\"sister\" href=\"http://example.com/tillie\" id=\"link3\">Tillie</a>]\n",
    "\n",
    "soup.find(id=\"link3\")\n",
    "# <a class=\"sister\" href=\"http://example.com/tillie\" id=\"link3\">Tillie</a>"
   ]
  },
  {
   "cell_type": "code",
   "execution_count": 49,
   "metadata": {
    "collapsed": false
   },
   "outputs": [
    {
     "name": "stdout",
     "output_type": "stream",
     "text": [
      "http://example.com/elsie\n",
      "http://example.com/lacie\n",
      "http://example.com/tillie\n"
     ]
    }
   ],
   "source": [
    "for link in soup.find_all('a'):\n",
    "    print(link.get('href'))"
   ]
  },
  {
   "cell_type": "markdown",
   "metadata": {},
   "source": [
    "Beautiful Soup transforms a complex HTML document into a complex tree of Python objects. But you’ll only ever have to deal with about four kinds of objects: Tag, NavigableString, BeautifulSoup, and Comment."
   ]
  },
  {
   "cell_type": "markdown",
   "metadata": {},
   "source": [
    "Youtube downloader"
   ]
  },
  {
   "cell_type": "code",
   "execution_count": 50,
   "metadata": {
    "collapsed": false
   },
   "outputs": [
    {
     "name": "stdout",
     "output_type": "stream",
     "text": [
      "Enter the name of the song: closer\n",
      "1. The Chainsmokers - Closer (Lyric) ft. Halsey\n",
      "2. The Chainsmokers - Closer ft. Halsey\n",
      "3. Mix - The Chainsmokers - Closer (Lyric) ft. Halsey\n",
      "4. The Chainsmokers - Closer | Kabira (Vidya Vox Mashup Cover) (ft. Casey Breves)\n",
      "5. The Chainsmokers - Closer (Live from the 2016 MTV VMAs) ft. Halsey\n",
      "6. The Closer MashUp - ( Kabira  ) - Vidya Vox\n",
      "7. Closer - The Chainsmokers ft. Halsey (Boyce Avenue ft. Sarah Hyland cover) on Spotify & iTunes\n",
      "8. The Chainsmokers - Closer (T-Mass Remix Audio) ft. Halsey\n",
      "9. The Chainsmokers - Closer (ft. Halsey)\n",
      "10. \"Closer\" - The Chainsmokers // Halsey (Alex Goot & ATC)\n"
     ]
    }
   ],
   "source": [
    "import requests\n",
    "import os,sys\n",
    "from bs4 import BeautifulSoup\n",
    "search = raw_input('Enter the name of the song: ')\n",
    "url = 'https://www.youtube.com/results?search_query='+search\n",
    "sc = requests.get(url)\n",
    "soup = BeautifulSoup(sc.text,'html.parser')\n",
    "title = soup.findAll('h3',{'class':'yt-lockup-title '})\n",
    "link = []\n",
    "for i in range(min(10,len(title))):\n",
    "    link.append(title[i].find('a')['href'])\n",
    "for i in range(min(10,len(title))):\n",
    "    print (str(i+1)+'. '+title[i].find('a').text)"
   ]
  },
  {
   "cell_type": "code",
   "execution_count": null,
   "metadata": {
    "collapsed": false
   },
   "outputs": [],
   "source": [
    "os.system(\"youtube-dl --extract-audio --audio-format mp3 \" + 'https://www.youtube.com'+link[2])"
   ]
  },
  {
   "cell_type": "markdown",
   "metadata": {},
   "source": [
    "### Selenium Automation"
   ]
  },
  {
   "cell_type": "code",
   "execution_count": null,
   "metadata": {
    "collapsed": false
   },
   "outputs": [],
   "source": [
    "#DA_AUTO LOGIN SCRIPT\n",
    "#Vineet Mehta\n",
    "from selenium import webdriver\n",
    "from selenium.webdriver.support import ui\n",
    "from selenium.webdriver.common.keys import Keys\n",
    "import time\n",
    "def page_is_loaded(driver):\n",
    "    return driver.find_element_by_tag_name(\"body\") != None\n",
    "options = webdriver.ChromeOptions()\n",
    "#options.add_argument('--ignore-certificate-errors')\n",
    "\n",
    "driver = webdriver.Chrome('/home/vineet/Downloads/chromedriver',chrome_options=options)\n",
    "driver.get(\"https://10.100.56.55:8090/httpclient.html\")\n",
    "wait = ui.WebDriverWait(driver, 10)\n",
    "wait.until(page_is_loaded)\n",
    "email_field = driver.find_element_by_name(\"username\")\n",
    "email_field.send_keys(\"ID\")\n",
    "password_field = driver.find_element_by_name(\"password\")\n",
    "password_field.send_keys(\"PASSWORD\")\n",
    "password_field.send_keys(Keys.RETURN)\n",
    "time.sleep(5)\n",
    "driver.quit();\n"
   ]
  }
 ],
 "metadata": {
  "kernelspec": {
   "display_name": "Python 2",
   "language": "python",
   "name": "python2"
  },
  "language_info": {
   "codemirror_mode": {
    "name": "ipython",
    "version": 2
   },
   "file_extension": ".py",
   "mimetype": "text/x-python",
   "name": "python",
   "nbconvert_exporter": "python",
   "pygments_lexer": "ipython2",
   "version": "2.7.12"
  }
 },
 "nbformat": 4,
 "nbformat_minor": 2
}
